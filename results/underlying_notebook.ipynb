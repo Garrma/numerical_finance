{
 "cells": [
  {
   "cell_type": "code",
   "execution_count": 1,
   "metadata": {},
   "outputs": [],
   "source": [
    "import sys\n",
    "sys.path.append(\"../\")"
   ]
  },
  {
   "cell_type": "code",
   "execution_count": 2,
   "metadata": {},
   "outputs": [],
   "source": [
    "import numpy as np\n",
    "\n",
    "from SDE.bs import BS_Asset\n",
    "from SDE.basket import BS_Basket\n",
    "from SDE.pricer import Option,PricingConfiguration"
   ]
  },
  {
   "cell_type": "code",
   "execution_count": 3,
   "metadata": {},
   "outputs": [
    {
     "name": "stdout",
     "output_type": "stream",
     "text": [
      "Inital spot of my basket: 200.0\n"
     ]
    }
   ],
   "source": [
    "risk_free_rate = 0.05\n",
    "\n",
    "# taking real life parameters found above\n",
    "asset_AAPL = BS_Asset(169.30,0.20,risk_free_rate)\n",
    "asset_AMZN = BS_Asset(179,0.32,risk_free_rate)\n",
    "asset_TSLA = BS_Asset(179.99,0.53,risk_free_rate)\n",
    "correl_matrix = [[1.000000, 0.884748, 0.827503], [0.884748, 1.000000, 0.793269], [0.827503, 0.793269, 1.000000]]\n",
    "\n",
    "adjusted_weights = [2*0.196889,2*0.18622,2*0.185195]\n",
    "my_basket_object = BS_Basket(adjusted_weights,[asset_AAPL,asset_AMZN,asset_TSLA],correl_matrix,lambda x :np.sum(x))\n",
    "\n",
    "print(f\"Inital spot of my basket: {round(my_basket_object.initial_spot,2)}\")"
   ]
  },
  {
   "cell_type": "code",
   "execution_count": 4,
   "metadata": {},
   "outputs": [
    {
     "name": "stdout",
     "output_type": "stream",
     "text": [
      "Inital spot of AAPL: 169.3 \n",
      "\n",
      "CF European price is: 6.204496158340412 \n",
      "\n",
      "MC European price is: 6.320701167126151 \n",
      "\n",
      "MCLS European price is: 6.202941600294795 \n",
      "\n",
      "**  Antithetic var. set for pricing  european call on <class 'SDE.bs.BS_Asset'> **\n",
      "  No control var. found for pricing  european call on <class 'SDE.bs.BS_Asset'> object \n",
      "\n",
      "            =========================== RESULTS ==========================\n",
      "                            result : 6.221844967275102\n",
      "                       option name : call\n",
      "                     exercise type : european\n",
      "                     pricing model : MC\n",
      "             number of simulations : 1000000 (Applicable)\n",
      "                        antithetic : True (Applicable)\n",
      "                   control variate : None (Applicable)\n",
      "                      quasi random : False (Applicable)\n",
      "            ==============================================================\n",
      "            \n",
      "MC European price is: 6.221844967275102 \n",
      "\n"
     ]
    }
   ],
   "source": [
    "call_option_object = Option(\n",
    "            strike = 200,\n",
    "            terminal_payoff_function=lambda x: max(x-200,0),\n",
    "            actualisation_rate= 0.05,\n",
    "            maturity= 1,\n",
    "            payoff_name= \"call\"\n",
    "            )\n",
    "\n",
    "print(f\"Inital spot of AAPL: {round(asset_AAPL.initial_spot,2)} \\n\")\n",
    "\n",
    "print(f\"CF European price is: {call_option_object.Price(asset_AAPL)} \\n\")\n",
    "\n",
    "pricing_config = PricingConfiguration(nb_simulations=10000,pricing_model_name=\"MC\")\n",
    "call_option_object.set_pricing_configuration(pricing_config)\n",
    "print(f\"MC European price is: {call_option_object.Price(asset_AAPL)} \\n\")\n",
    "\n",
    "pricing_config = PricingConfiguration(nb_simulations=1000000,pricing_model_name=\"MCLS\")\n",
    "call_option_object.set_pricing_configuration(pricing_config)\n",
    "print(f\"MCLS European price is: {call_option_object.Price(asset_AAPL)} \\n\")\n",
    "\n",
    "pricing_config = PricingConfiguration(nb_simulations=1000000,pricing_model_name=\"MC\")\n",
    "call_option_object.set_pricing_configuration(pricing_config)\n",
    "call_option_object.set_predefined_pricing_reduction_techniques(asset_AAPL)\n",
    "call_option_object.set_pricing_antithetic()\n",
    "print(f\"MC European price is: {call_option_object.Price(asset_AAPL,display_info=True)} \\n\")"
   ]
  },
  {
   "cell_type": "code",
   "execution_count": null,
   "metadata": {},
   "outputs": [],
   "source": []
  },
  {
   "cell_type": "code",
   "execution_count": null,
   "metadata": {},
   "outputs": [],
   "source": []
  },
  {
   "cell_type": "code",
   "execution_count": null,
   "metadata": {},
   "outputs": [],
   "source": []
  }
 ],
 "metadata": {
  "kernelspec": {
   "display_name": "econometrics",
   "language": "python",
   "name": "python3"
  },
  "language_info": {
   "codemirror_mode": {
    "name": "ipython",
    "version": 3
   },
   "file_extension": ".py",
   "mimetype": "text/x-python",
   "name": "python",
   "nbconvert_exporter": "python",
   "pygments_lexer": "ipython3",
   "version": "3.10.13"
  }
 },
 "nbformat": 4,
 "nbformat_minor": 2
}
